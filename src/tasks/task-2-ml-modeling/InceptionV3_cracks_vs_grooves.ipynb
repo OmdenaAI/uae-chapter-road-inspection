{
  "nbformat": 4,
  "nbformat_minor": 0,
  "metadata": {
    "colab": {
      "provenance": []
    },
    "kernelspec": {
      "name": "python3",
      "display_name": "Python 3"
    },
    "language_info": {
      "name": "python"
    },
    "accelerator": "GPU",
    "gpuClass": "standard"
  },
  "cells": [
    {
      "cell_type": "code",
      "execution_count": null,
      "metadata": {
        "id": "GZYkXs68INS9"
      },
      "outputs": [],
      "source": [
        "#Import libraries\n",
        "import matplotlib.pyplot as plt\n",
        "import tensorflow as tf\n",
        "from tensorflow.keras.preprocessing.image import ImageDataGenerator\n",
        "from tensorflow.keras.applications.inception_v3 import InceptionV3 \n",
        "from sklearn.metrics import   confusion_matrix, ConfusionMatrixDisplay , classification_report\n",
        "from google.colab import files"
      ]
    },
    {
      "cell_type": "code",
      "source": [
        "from google.colab import drive\n",
        "drive.mount('/content/drive/', force_remount=True)"
      ],
      "metadata": {
        "colab": {
          "base_uri": "https://localhost:8080/"
        },
        "id": "AIkfF3MEIRam",
        "outputId": "a15cac8a-b1f0-4b7e-f17a-cce0ba43e257"
      },
      "execution_count": null,
      "outputs": [
        {
          "output_type": "stream",
          "name": "stdout",
          "text": [
            "Mounted at /content/drive/\n"
          ]
        }
      ]
    },
    {
      "cell_type": "code",
      "source": [
        "#unzip folder\n",
        "!unzip -uq /content/drive/MyDrive/Train-Val-Test-Split-Dataset.zip"
      ],
      "metadata": {
        "id": "Db3dId-sIUi-"
      },
      "execution_count": null,
      "outputs": []
    },
    {
      "cell_type": "code",
      "source": [
        "#Parameters\n",
        "BATCH_SIZE= 32\n",
        "EPOCHS = 10\n",
        "IMG_HEIGHT= 300 \n",
        "IMG_WIDTH= 300"
      ],
      "metadata": {
        "id": "B4sAAXuHIXuW"
      },
      "execution_count": null,
      "outputs": []
    },
    {
      "cell_type": "code",
      "source": [
        "#Data augmentation\n",
        "train_dir= '/content/Train-Val-Test-Split-Dataset/train'\n",
        "val_dir= '/content/Train-Val-Test-Split-Dataset/val'\n",
        "test_dir= '/content/Train-Val-Test-Split-Dataset/test'\n",
        "\n",
        "preprocess_input = tf.keras.applications.inception_v3.preprocess_input\n",
        "train_datagen= ImageDataGenerator(rescale= 1/255., \n",
        "                                  rotation_range= 40, \n",
        "                                  width_shift_range=0.2, \n",
        "                                  height_shift_range= 0.2,\n",
        "                                  shear_range=0.2,\n",
        "                                  zoom_range=0.2, \n",
        "                                  horizontal_flip= True, \n",
        "                                  preprocessing_function= preprocess_input, \n",
        "                                  fill_mode= 'nearest')\n",
        "\n",
        "val_datagen= ImageDataGenerator(rescale=1/255., preprocessing_function= preprocess_input)\n",
        "\n",
        "training_generator= train_datagen.flow_from_directory(train_dir, \n",
        "                                                      batch_size= BATCH_SIZE, \n",
        "                                                      class_mode= 'binary',\n",
        "                                                      color_mode= 'rgb', \n",
        "                                                      seed= 42,\n",
        "                                                      target_size= (IMG_HEIGHT,IMG_WIDTH)) \n",
        "\n",
        "validation_generator= val_datagen.flow_from_directory(val_dir, \n",
        "                                                      batch_size= BATCH_SIZE, \n",
        "                                                      class_mode= 'binary', \n",
        "                                                      color_mode= 'rgb',\n",
        "                                                      seed= 42,\n",
        "                                                      shuffle=False,\n",
        "                                                      target_size= (IMG_HEIGHT,IMG_WIDTH)) \n",
        "\n",
        "test_generator= val_datagen.flow_from_directory(test_dir, \n",
        "                                                 batch_size= BATCH_SIZE, \n",
        "                                                 class_mode= 'binary',\n",
        "                                                color_mode= 'rgb',\n",
        "                                                shuffle=False, \n",
        "                                                 seed= 42,\n",
        "                                                 target_size= (IMG_HEIGHT,IMG_WIDTH)) \n",
        "\n"
      ],
      "metadata": {
        "colab": {
          "base_uri": "https://localhost:8080/"
        },
        "id": "QICpZfVSIfkB",
        "outputId": "663dd8af-18bd-41f3-dbcd-b50b5cad7102"
      },
      "execution_count": null,
      "outputs": [
        {
          "output_type": "stream",
          "name": "stdout",
          "text": [
            "Found 3565 images belonging to 2 classes.\n",
            "Found 450 images belonging to 2 classes.\n",
            "Found 450 images belonging to 2 classes.\n"
          ]
        }
      ]
    },
    {
      "cell_type": "code",
      "source": [
        "#define feature extraction layer\n",
        "def feature_extraction(inputs):\n",
        "    feature_extractor= tf.keras.applications.InceptionV3(input_shape=(IMG_HEIGHT,IMG_WIDTH,3),\n",
        "                                                            include_top= False,\n",
        "                                                            weights= 'imagenet')(inputs)\n",
        "    return feature_extractor\n",
        "\n",
        "#define classifier layer\n",
        "def classifier(inputs):\n",
        "    x = tf.keras.layers.GlobalAveragePooling2D()(inputs)\n",
        "    #x= tf.keras.layers.Dropout(0.3) (x)\n",
        "    x = tf.keras.layers.Dense(512, activation= 'relu')(x)\n",
        "    x = tf.keras.layers.Dense(1, activation=\"sigmoid\", name=\"classification\")(x)\n",
        "    \n",
        "    return x\n",
        "\n",
        "\n",
        "#define final model\n",
        "def final_model(inputs):\n",
        "    inception_feature_extractor= feature_extraction(inputs)\n",
        "    classification_output= classifier(inception_feature_extractor)\n",
        "    \n",
        "    return classification_output\n",
        "\n",
        "#define the model and compile it\n",
        "def define_and_compile_model():\n",
        "    inputs= tf.keras.layers.Input(shape= (IMG_HEIGHT,IMG_WIDTH,3))\n",
        "    classification_output= final_model(inputs)\n",
        "    classification_output.trainable= True\n",
        "    model= tf.keras.Model(inputs= inputs, outputs= classification_output)\n",
        "\n",
        "    model.compile(optimizer= tf.keras.optimizers.SGD(learning_rate=0.01),\n",
        "                 loss= 'binary_crossentropy',\n",
        "                 metrics=['accuracy'])\n",
        "    return model"
      ],
      "metadata": {
        "id": "S25guIzLIims"
      },
      "execution_count": null,
      "outputs": []
    },
    {
      "cell_type": "code",
      "source": [
        "#print model\n",
        "model = define_and_compile_model()\n",
        "model.summary()"
      ],
      "metadata": {
        "colab": {
          "base_uri": "https://localhost:8080/"
        },
        "id": "bDQ6H76qInXe",
        "outputId": "dafd3278-6bd8-42e6-eb6f-8e7962e0a198"
      },
      "execution_count": null,
      "outputs": [
        {
          "output_type": "stream",
          "name": "stdout",
          "text": [
            "Downloading data from https://storage.googleapis.com/tensorflow/keras-applications/inception_v3/inception_v3_weights_tf_dim_ordering_tf_kernels_notop.h5\n",
            "87910968/87910968 [==============================] - 1s 0us/step\n",
            "Model: \"model\"\n",
            "_________________________________________________________________\n",
            " Layer (type)                Output Shape              Param #   \n",
            "=================================================================\n",
            " input_1 (InputLayer)        [(None, 300, 300, 3)]     0         \n",
            "                                                                 \n",
            " inception_v3 (Functional)   (None, 8, 8, 2048)        21802784  \n",
            "                                                                 \n",
            " global_average_pooling2d (G  (None, 2048)             0         \n",
            " lobalAveragePooling2D)                                          \n",
            "                                                                 \n",
            " dense (Dense)               (None, 512)               1049088   \n",
            "                                                                 \n",
            " classification (Dense)      (None, 1)                 513       \n",
            "                                                                 \n",
            "=================================================================\n",
            "Total params: 22,852,385\n",
            "Trainable params: 22,817,953\n",
            "Non-trainable params: 34,432\n",
            "_________________________________________________________________\n"
          ]
        }
      ]
    },
    {
      "cell_type": "code",
      "source": [
        "checkpoint_filepath = '/content/checkpoint.h5'\n",
        "\n",
        "#Create checkpoint callback\n",
        "checkpoint_callback = tf.keras.callbacks.ModelCheckpoint(filepath=checkpoint_filepath,\n",
        "                                                         save_weights_only=True,\n",
        "                                                         monitor='val_accuracy',\n",
        "                                                         mode='max',\n",
        "                                                         save_best_only=True)\n",
        "\n",
        "#Reduce learning rate when a metric has stopped improving\n",
        "reduce_lr = tf.keras.callbacks.ReduceLROnPlateau(monitor='val_accuracy', \n",
        "                                                 factor=0.2,\n",
        "                                                patience=3,\n",
        "                                                 min_lr= 0.001,\n",
        "                                                 verbose=1)\n",
        "\n",
        "#stop training if model's val_loss doesn't improve for 5 epochs\n",
        "earlyStoppingCallback = tf.keras.callbacks.EarlyStopping(monitor='val_loss', \n",
        "                                                         patience=3,\n",
        "                                                         verbose= 1 ,\n",
        "                                                         restore_best_weights=True)\n",
        "\n",
        "#Early stoping\n",
        "#class myCallback(tf.keras.callbacks.Callback):\n",
        "  #def on_epoch_end(self, epoch, log={}):\n",
        "    #if log.get('accuracy') >= 98:\n",
        "      #self.model.stop_training= True \n",
        "\n",
        "#earlyStoppingCallback= myCallback()"
      ],
      "metadata": {
        "id": "MOKClRweIs5f"
      },
      "execution_count": null,
      "outputs": []
    },
    {
      "cell_type": "code",
      "source": [
        "#Train the model\n",
        "history= model.fit( training_generator, \n",
        "                   validation_data= validation_generator,  \n",
        "                   batch_size=BATCH_SIZE, \n",
        "                   epochs=EPOCHS, \n",
        "                   callbacks= [checkpoint_callback,\n",
        "                               reduce_lr,\n",
        "                               earlyStoppingCallback])"
      ],
      "metadata": {
        "colab": {
          "base_uri": "https://localhost:8080/"
        },
        "id": "TDFFNK9bIydw",
        "outputId": "fe098ebd-86d6-4049-d75b-cb84a708a159"
      },
      "execution_count": null,
      "outputs": [
        {
          "output_type": "stream",
          "name": "stdout",
          "text": [
            "Epoch 1/10\n",
            "112/112 [==============================] - 164s 1s/step - loss: 0.0413 - accuracy: 0.9846 - val_loss: 0.0835 - val_accuracy: 0.9756 - lr: 0.0100\n",
            "Epoch 2/10\n",
            "112/112 [==============================] - 162s 1s/step - loss: 0.0397 - accuracy: 0.9846 - val_loss: 0.0836 - val_accuracy: 0.9778 - lr: 0.0100\n",
            "Epoch 3/10\n",
            "112/112 [==============================] - 163s 1s/step - loss: 0.0377 - accuracy: 0.9863 - val_loss: 0.0788 - val_accuracy: 0.9733 - lr: 0.0100\n",
            "Epoch 4/10\n",
            "112/112 [==============================] - 163s 1s/step - loss: 0.0320 - accuracy: 0.9891 - val_loss: 0.0851 - val_accuracy: 0.9733 - lr: 0.0100\n",
            "Epoch 5/10\n",
            "112/112 [==============================] - ETA: 0s - loss: 0.0293 - accuracy: 0.9899\n",
            "Epoch 5: ReduceLROnPlateau reducing learning rate to 0.0019999999552965165.\n",
            "112/112 [==============================] - 163s 1s/step - loss: 0.0293 - accuracy: 0.9899 - val_loss: 0.0894 - val_accuracy: 0.9733 - lr: 0.0100\n",
            "Epoch 6/10\n",
            "112/112 [==============================] - ETA: 0s - loss: 0.0253 - accuracy: 0.9899Restoring model weights from the end of the best epoch: 3.\n",
            "112/112 [==============================] - 162s 1s/step - loss: 0.0253 - accuracy: 0.9899 - val_loss: 0.0905 - val_accuracy: 0.9756 - lr: 0.0020\n",
            "Epoch 6: early stopping\n"
          ]
        }
      ]
    },
    {
      "cell_type": "code",
      "source": [
        "def plot_loss_acc(history):\n",
        "  plt.plot(history.history[\"loss\"], label=\"training_loss\")\n",
        "  plt.plot(history.history[\"val_loss\"], label=\"val_loss\")\n",
        "  plt.title(\"Training and Validation Loss\")\n",
        "  plt.xlabel(\"Epochs\")\n",
        "  plt.legend()\n",
        "\n",
        "  plt.figure()\n",
        "  plt.plot(history.history[\"accuracy\"], label=\"training_accuracy\")\n",
        "  plt.plot(history.history[\"val_accuracy\"], label=\"val_accuracy\")\n",
        "  plt.title(\"Training and Validation Accuracy\")\n",
        "  plt.xlabel(\"Epochs\")\n",
        "  plt.legend()"
      ],
      "metadata": {
        "id": "cq72dkxvIzfW"
      },
      "execution_count": null,
      "outputs": []
    },
    {
      "cell_type": "code",
      "source": [
        "# Plot training results\n",
        "plot_loss_acc(history)"
      ],
      "metadata": {
        "colab": {
          "base_uri": "https://localhost:8080/",
          "height": 573
        },
        "id": "T_TIwookI47C",
        "outputId": "e75d7456-c02b-485e-c194-ea55d7f95ad1"
      },
      "execution_count": null,
      "outputs": [
        {
          "output_type": "display_data",
          "data": {
            "text/plain": [
              "<Figure size 432x288 with 1 Axes>"
            ],
            "image/png": "[encoded data removed]"
          },
          "metadata": {
            "needs_background": "light"
          }
        },
        {
          "output_type": "display_data",
          "data": {
            "text/plain": [
              "<Figure size 432x288 with 1 Axes>"
            ],
            "image/png": "[encoded data removed]"
          },
          "metadata": {
            "needs_background": "light"
          }
        }
      ]
    },
    {
      "cell_type": "code",
      "source": [
        "#model evaluation\n",
        "results= model.evaluate(test_generator, verbose=0)\n",
        "\n",
        "print(\"    Test Loss: {:.5f}\".format(results[0]))\n",
        "print(\"Test Accuracy: {:.2f}%\".format(results[1] * 100))"
      ],
      "metadata": {
        "colab": {
          "base_uri": "https://localhost:8080/"
        },
        "id": "Rv1BqrwpI8u_",
        "outputId": "41676916-14a8-4b21-b30f-158ee80cc158"
      },
      "execution_count": null,
      "outputs": [
        {
          "output_type": "stream",
          "name": "stdout",
          "text": [
            "    Test Loss: 0.06306\n",
            "Test Accuracy: 97.78%\n"
          ]
        }
      ]
    },
    {
      "cell_type": "code",
      "source": [
        "#classification report\n",
        "predictions = model.predict(test_generator)\n",
        "y_pred= [1 if i >= 0.5 else 0 for i in predictions]\n",
        "\n",
        "y_true = test_generator.classes\n",
        "class_labels = list(test_generator.class_indices.keys())\n",
        "\n",
        "print(classification_report(y_true, y_pred, target_names=class_labels ))"
      ],
      "metadata": {
        "colab": {
          "base_uri": "https://localhost:8080/"
        },
        "id": "wzHfmmJ1I9sN",
        "outputId": "973c12ba-279f-4793-b461-07545fc602fc"
      },
      "execution_count": null,
      "outputs": [
        {
          "output_type": "stream",
          "name": "stdout",
          "text": [
            "15/15 [==============================] - 11s 696ms/step\n",
            "              precision    recall  f1-score   support\n",
            "\n",
            "      Cracks       0.98      0.97      0.98       225\n",
            "      Groove       0.97      0.98      0.98       225\n",
            "\n",
            "    accuracy                           0.98       450\n",
            "   macro avg       0.98      0.98      0.98       450\n",
            "weighted avg       0.98      0.98      0.98       450\n",
            "\n"
          ]
        }
      ]
    },
    {
      "cell_type": "code",
      "source": [
        "#confusion matrix\n",
        "plt.figure(figsize= (12,6))\n",
        "cm = confusion_matrix(y_true, y_pred)\n",
        "\n",
        "disp = ConfusionMatrixDisplay(confusion_matrix=cm, display_labels=class_labels)\n",
        "\n",
        "disp.plot(cmap=plt.cm.Blues)\n",
        "plt.show()"
      ],
      "metadata": {
        "colab": {
          "base_uri": "https://localhost:8080/",
          "height": 296
        },
        "id": "Dx63-rL6JD3I",
        "outputId": "77064de8-e426-47bf-dd09-d99025f4ed57"
      },
      "execution_count": null,
      "outputs": [
        {
          "output_type": "display_data",
          "data": {
            "text/plain": [
              "<Figure size 864x432 with 0 Axes>"
            ]
          },
          "metadata": {}
        },
        {
          "output_type": "display_data",
          "data": {
            "text/plain": [
              "<Figure size 432x288 with 2 Axes>"
            ],
            "image/png": "[encoded data removed]"
          },
          "metadata": {
            "needs_background": "light"
          }
        }
      ]
    },
    {
      "cell_type": "code",
      "source": [
        "#save & download model \n",
        "model.save(\"InceptionV3.h5\")\n",
        "files.download(\"InceptionV3.h5\")\n",
        "\n"
      ],
      "metadata": {
        "colab": {
          "base_uri": "https://localhost:8080/",
          "height": 17
        },
        "id": "9CPo7GiAJHuh",
        "outputId": "2f1df9f4-3d5f-4895-88cb-3452f8531d4a"
      },
      "execution_count": null,
      "outputs": [
        {
          "output_type": "display_data",
          "data": {
            "text/plain": [
              "<IPython.core.display.Javascript object>"
            ],
            "application/javascript": [
              "\n",
              "    async function download(id, filename, size) {\n",
              "      if (!google.colab.kernel.accessAllowed) {\n",
              "        return;\n",
              "      }\n",
              "      const div = document.createElement('div');\n",
              "      const label = document.createElement('label');\n",
              "      label.textContent = `Downloading \"${filename}\": `;\n",
              "      div.appendChild(label);\n",
              "      const progress = document.createElement('progress');\n",
              "      progress.max = size;\n",
              "      div.appendChild(progress);\n",
              "      document.body.appendChild(div);\n",
              "\n",
              "      const buffers = [];\n",
              "      let downloaded = 0;\n",
              "\n",
              "      const channel = await google.colab.kernel.comms.open(id);\n",
              "      // Send a message to notify the kernel that we're ready.\n",
              "      channel.send({})\n",
              "\n",
              "      for await (const message of channel.messages) {\n",
              "        // Send a message to notify the kernel that we're ready.\n",
              "        channel.send({})\n",
              "        if (message.buffers) {\n",
              "          for (const buffer of message.buffers) {\n",
              "            buffers.push(buffer);\n",
              "            downloaded += buffer.byteLength;\n",
              "            progress.value = downloaded;\n",
              "          }\n",
              "        }\n",
              "      }\n",
              "      const blob = new Blob(buffers, {type: 'application/binary'});\n",
              "      const a = document.createElement('a');\n",
              "      a.href = window.URL.createObjectURL(blob);\n",
              "      a.download = filename;\n",
              "      div.appendChild(a);\n",
              "      a.click();\n",
              "      div.remove();\n",
              "    }\n",
              "  "
            ]
          },
          "metadata": {}
        },
        {
          "output_type": "display_data",
          "data": {
            "text/plain": [
              "<IPython.core.display.Javascript object>"
            ],
            "application/javascript": [
              "download(\"download_4d9d775a-86d6-4d23-9703-cbe934e514e7\", \"InceptionV3.h5\", 91919128)"
            ]
          },
          "metadata": {}
        }
      ]
    }
  ]
}