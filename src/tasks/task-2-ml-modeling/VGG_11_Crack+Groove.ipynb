{
  "cells": [
    {
      "cell_type": "code",
      "execution_count": null,
      "id": "32a5b6de-2ba1-41c4-a981-3a4c40bcdb78",
      "metadata": {
        "id": "32a5b6de-2ba1-41c4-a981-3a4c40bcdb78"
      },
      "outputs": [],
      "source": [
        "import torch\n",
        "import torch.nn as nn\n",
        "import torch.nn.functional as F\n",
        "import torch.optim as optim\n",
        "from torch.utils.data import DataLoader, Dataset\n",
        "\n",
        "from torchvision.datasets import ImageFolder\n",
        "import torchvision.transforms as transforms\n",
        "from torchsummary import summary\n",
        "\n",
        "from torchvision.models import vgg11_bn, VGG11_BN_Weights\n",
        "\n",
        "from ignite.engine import create_supervised_trainer\n",
        "from ignite.handlers import FastaiLRFinder\n",
        "\n",
        "import numpy as np\n",
        "\n",
        "from PIL import Image, ImageDraw\n",
        "\n",
        "import matplotlib.pyplot as plt\n",
        "%matplotlib inline\n",
        "\n",
        "import os\n",
        "import random\n",
        "from copy import deepcopy\n",
        "import time\n",
        "import datetime\n",
        "from tqdm.notebook import tqdm"
      ]
    },
    {
      "cell_type": "markdown",
      "id": "13d13c59-6738-4024-8ed8-4b79bbf70920",
      "metadata": {
        "id": "13d13c59-6738-4024-8ed8-4b79bbf70920"
      },
      "source": [
        "### 0. Helper Functions"
      ]
    },
    {
      "cell_type": "code",
      "execution_count": null,
      "id": "bcc37d02-bf9d-4dfb-8a65-d5b35ba38206",
      "metadata": {
        "id": "bcc37d02-bf9d-4dfb-8a65-d5b35ba38206"
      },
      "outputs": [],
      "source": [
        "from random import seed as randSeed\n",
        "\n",
        "from numpy.random import seed as npSeed\n",
        "from torch import manual_seed\n",
        "from torch.cuda import manual_seed_all\n",
        "\n",
        "\n",
        "def seed_everything(seed: int):\n",
        "    r\"\"\"Sets the seed for generating random numbers in PyTorch, numpy and\n",
        "    Python.\n",
        "    Args:\n",
        "        seed (int): The desired seed.\n",
        "    \"\"\"\n",
        "    randSeed(seed)\n",
        "    npSeed(seed)\n",
        "    manual_seed(seed)\n",
        "    manual_seed_all(seed)"
      ]
    },
    {
      "cell_type": "code",
      "execution_count": null,
      "id": "66bc87bd-fdab-4726-a1d6-c96c59d5c9a3",
      "metadata": {
        "id": "66bc87bd-fdab-4726-a1d6-c96c59d5c9a3"
      },
      "outputs": [],
      "source": [
        "def plot_tensor_image(tensor):\n",
        "    image = torch.permute(tensor, (1, 2, 0))\n",
        "    plt.imshow(np.array(image))\n",
        "    plt.axis('off')"
      ]
    },
    {
      "cell_type": "code",
      "execution_count": null,
      "id": "64e373b1-bdd6-455c-8050-8a2139dacc01",
      "metadata": {
        "id": "64e373b1-bdd6-455c-8050-8a2139dacc01"
      },
      "outputs": [],
      "source": [
        "def freeze_model(model):\n",
        "    for param in model.parameters():\n",
        "        param.requires_grad = False"
      ]
    },
    {
      "cell_type": "markdown",
      "id": "bdf790ab-8704-49a3-9efd-d4f2c5804023",
      "metadata": {
        "id": "bdf790ab-8704-49a3-9efd-d4f2c5804023"
      },
      "source": [
        "### 1. Explore the Dataset"
      ]
    },
    {
      "cell_type": "code",
      "execution_count": null,
      "id": "a1d5bac1-1f7d-4c83-9563-853605b8f700",
      "metadata": {
        "id": "a1d5bac1-1f7d-4c83-9563-853605b8f700"
      },
      "outputs": [],
      "source": [
        "TRAIN_DIR = os.path.join(os.getcwd(), \"data\", \"train\")\n",
        "TEST_DIR = os.path.join(os.getcwd(), \"data\", \"val\")\n",
        "CLASSES = os.listdir(TRAIN_DIR)"
      ]
    },
    {
      "cell_type": "markdown",
      "id": "536760b0-502e-4e9f-9045-409da23669b9",
      "metadata": {
        "id": "536760b0-502e-4e9f-9045-409da23669b9"
      },
      "source": [
        "We have 2 classes in our dataset; 'Cracks', 'Groove'. The images of each are located in the folder of their classes."
      ]
    },
    {
      "cell_type": "code",
      "execution_count": null,
      "id": "3bdc0cd6-e968-43dc-b322-2e65b06c36fb",
      "metadata": {
        "id": "3bdc0cd6-e968-43dc-b322-2e65b06c36fb",
        "outputId": "814869bb-0dd1-4f39-ab00-71b6962d0747"
      },
      "outputs": [
        {
          "name": "stdout",
          "output_type": "stream",
          "text": [
            "Class Cracks has 1620 images\n",
            "Class Groove has 1620 images\n"
          ]
        }
      ],
      "source": [
        "for label in CLASSES:\n",
        "    class_path = os.path.join(TRAIN_DIR, label)\n",
        "    print(\"Class {} has {} images\".format(label, len(os.listdir(class_path))))"
      ]
    },
    {
      "cell_type": "markdown",
      "id": "94664ddb-c4b7-4e66-9515-22c7e36fa0e7",
      "metadata": {
        "id": "94664ddb-c4b7-4e66-9515-22c7e36fa0e7"
      },
      "source": [
        "We have 1620 images for each class. No class-imbalance problem exists."
      ]
    },
    {
      "cell_type": "code",
      "execution_count": null,
      "id": "0da1e5dd-e330-43e7-909a-540c11e26492",
      "metadata": {
        "id": "0da1e5dd-e330-43e7-909a-540c11e26492",
        "outputId": "25922f7f-667d-4a82-a09a-7619dfe8374e"
      },
      "outputs": [
        {
          "data": {
            "image/png": "[encoded data removed]",
            "text/plain": [
              "<Figure size 640x480 with 2 Axes>"
            ]
          },
          "metadata": {},
          "output_type": "display_data"
        }
      ],
      "source": [
        "crack_images_paths = os.listdir(os.path.join(TRAIN_DIR, \"Cracks\"))\n",
        "groove_images_paths = os.listdir(os.path.join(TRAIN_DIR, \"Groove\"))\n",
        "\n",
        "CRACK_RANDOM_IMAGE_IDX = random.randint(0, 1619)\n",
        "GROOVE_RANDOM_IMAGE_IDX = random.randint(0, 1619)\n",
        "\n",
        "plt.subplot(1, 2, 1)\n",
        "crack_image_path = os.path.join(TRAIN_DIR, \"Cracks\", crack_images_paths[CRACK_RANDOM_IMAGE_IDX])\n",
        "crack_image = Image.open(crack_image_path)\n",
        "plt.imshow(np.array(crack_image))\n",
        "plt.title(crack_images_paths[CRACK_RANDOM_IMAGE_IDX])\n",
        "plt.axis('off')\n",
        "\n",
        "plt.subplot(1, 2, 2)\n",
        "groove_image_path = os.path.join(TRAIN_DIR, \"Groove\", groove_images_paths[GROOVE_RANDOM_IMAGE_IDX])\n",
        "groove_image = Image.open(groove_image_path)\n",
        "plt.imshow(np.array(groove_image))\n",
        "plt.title(groove_images_paths[GROOVE_RANDOM_IMAGE_IDX])\n",
        "plt.axis('off')\n",
        "\n",
        "plt.show()"
      ]
    },
    {
      "cell_type": "markdown",
      "id": "32c8f677-7fe6-4f5a-a518-d50a4db542bc",
      "metadata": {
        "id": "32c8f677-7fe6-4f5a-a518-d50a4db542bc"
      },
      "source": [
        "We can load the dataset using the `ImageFolder` class from `torchvision.datasets` as it's the most suitable with the directory structure we have right now. Before that we need to define some image transforms in addition to the transforms of the pretrained model we are going to use."
      ]
    },
    {
      "cell_type": "markdown",
      "id": "23a21044-1b37-4e70-9970-0b1b775ed647",
      "metadata": {
        "id": "23a21044-1b37-4e70-9970-0b1b775ed647"
      },
      "source": [
        "### 2. Model"
      ]
    },
    {
      "cell_type": "markdown",
      "id": "8ee7bf98-9249-43c1-9f99-4476c2b8535e",
      "metadata": {
        "id": "8ee7bf98-9249-43c1-9f99-4476c2b8535e"
      },
      "source": [
        "For this notebook, we are going to use VGG_11_BN pretrained network and train the classifier part in the model while freezing the feature extractor part.\n",
        "\n",
        "**Note: We can use the same logic to train different models later.**"
      ]
    },
    {
      "cell_type": "code",
      "execution_count": null,
      "id": "dffedcca-2ceb-40b7-be11-e8b03129f710",
      "metadata": {
        "id": "dffedcca-2ceb-40b7-be11-e8b03129f710",
        "outputId": "108b32a0-9194-4b98-f425-e51f6e1278ed"
      },
      "outputs": [
        {
          "name": "stdout",
          "output_type": "stream",
          "text": [
            "The transforms used for VGG11_BN_Weights.IMAGENET1K_V1 are\n",
            "ImageClassification(\n",
            "    crop_size=[224]\n",
            "    resize_size=[256]\n",
            "    mean=[0.485, 0.456, 0.406]\n",
            "    std=[0.229, 0.224, 0.225]\n",
            "    interpolation=InterpolationMode.BILINEAR\n",
            ")\n"
          ]
        }
      ],
      "source": [
        "weights = VGG11_BN_Weights.IMAGENET1K_V1\n",
        "vgg_11_bn_model = vgg11_bn(weights = weights)\n",
        "preprocess = weights.transforms()\n",
        "print(\"The transforms used for {} are\\n{}\".format(weights, preprocess))"
      ]
    },
    {
      "cell_type": "code",
      "execution_count": null,
      "id": "e37e6fe6-5392-4f41-89e7-7dab219ae0eb",
      "metadata": {
        "id": "e37e6fe6-5392-4f41-89e7-7dab219ae0eb",
        "outputId": "e4ca605d-95ff-448a-d520-3ecd653bbbe2"
      },
      "outputs": [
        {
          "name": "stdout",
          "output_type": "stream",
          "text": [
            "VGG(\n",
            "  (features): Sequential(\n",
            "    (0): Conv2d(3, 64, kernel_size=(3, 3), stride=(1, 1), padding=(1, 1))\n",
            "    (1): BatchNorm2d(64, eps=1e-05, momentum=0.1, affine=True, track_running_stats=True)\n",
            "    (2): ReLU(inplace=True)\n",
            "    (3): MaxPool2d(kernel_size=2, stride=2, padding=0, dilation=1, ceil_mode=False)\n",
            "    (4): Conv2d(64, 128, kernel_size=(3, 3), stride=(1, 1), padding=(1, 1))\n",
            "    (5): BatchNorm2d(128, eps=1e-05, momentum=0.1, affine=True, track_running_stats=True)\n",
            "    (6): ReLU(inplace=True)\n",
            "    (7): MaxPool2d(kernel_size=2, stride=2, padding=0, dilation=1, ceil_mode=False)\n",
            "    (8): Conv2d(128, 256, kernel_size=(3, 3), stride=(1, 1), padding=(1, 1))\n",
            "    (9): BatchNorm2d(256, eps=1e-05, momentum=0.1, affine=True, track_running_stats=True)\n",
            "    (10): ReLU(inplace=True)\n",
            "    (11): Conv2d(256, 256, kernel_size=(3, 3), stride=(1, 1), padding=(1, 1))\n",
            "    (12): BatchNorm2d(256, eps=1e-05, momentum=0.1, affine=True, track_running_stats=True)\n",
            "    (13): ReLU(inplace=True)\n",
            "    (14): MaxPool2d(kernel_size=2, stride=2, padding=0, dilation=1, ceil_mode=False)\n",
            "    (15): Conv2d(256, 512, kernel_size=(3, 3), stride=(1, 1), padding=(1, 1))\n",
            "    (16): BatchNorm2d(512, eps=1e-05, momentum=0.1, affine=True, track_running_stats=True)\n",
            "    (17): ReLU(inplace=True)\n",
            "    (18): Conv2d(512, 512, kernel_size=(3, 3), stride=(1, 1), padding=(1, 1))\n",
            "    (19): BatchNorm2d(512, eps=1e-05, momentum=0.1, affine=True, track_running_stats=True)\n",
            "    (20): ReLU(inplace=True)\n",
            "    (21): MaxPool2d(kernel_size=2, stride=2, padding=0, dilation=1, ceil_mode=False)\n",
            "    (22): Conv2d(512, 512, kernel_size=(3, 3), stride=(1, 1), padding=(1, 1))\n",
            "    (23): BatchNorm2d(512, eps=1e-05, momentum=0.1, affine=True, track_running_stats=True)\n",
            "    (24): ReLU(inplace=True)\n",
            "    (25): Conv2d(512, 512, kernel_size=(3, 3), stride=(1, 1), padding=(1, 1))\n",
            "    (26): BatchNorm2d(512, eps=1e-05, momentum=0.1, affine=True, track_running_stats=True)\n",
            "    (27): ReLU(inplace=True)\n",
            "    (28): MaxPool2d(kernel_size=2, stride=2, padding=0, dilation=1, ceil_mode=False)\n",
            "  )\n",
            "  (avgpool): AdaptiveAvgPool2d(output_size=(7, 7))\n",
            "  (classifier): Sequential(\n",
            "    (0): Linear(in_features=25088, out_features=4096, bias=True)\n",
            "    (1): ReLU(inplace=True)\n",
            "    (2): Dropout(p=0.5, inplace=False)\n",
            "    (3): Linear(in_features=4096, out_features=4096, bias=True)\n",
            "    (4): ReLU(inplace=True)\n",
            "    (5): Dropout(p=0.5, inplace=False)\n",
            "    (6): Linear(in_features=4096, out_features=1000, bias=True)\n",
            "  )\n",
            ")\n"
          ]
        }
      ],
      "source": [
        "print(vgg_11_bn_model)"
      ]
    },
    {
      "cell_type": "markdown",
      "id": "168d6fbf-9912-414d-8f0c-0a6b79ca1b38",
      "metadata": {
        "id": "168d6fbf-9912-414d-8f0c-0a6b79ca1b38"
      },
      "source": [
        "### 3. Image Transforms"
      ]
    },
    {
      "cell_type": "code",
      "execution_count": null,
      "id": "afe00178-041d-425f-829c-ebdc826313c1",
      "metadata": {
        "id": "afe00178-041d-425f-829c-ebdc826313c1"
      },
      "outputs": [],
      "source": [
        "train_transforms = transforms.Compose([\n",
        "    transforms.RandomHorizontalFlip(p=0.5), \n",
        "    transforms.RandomVerticalFlip(p=0.5),  \n",
        "    transforms.RandomRotation(15),\n",
        "    transforms.ColorJitter(),\n",
        "    transforms.ToTensor(),\n",
        "    preprocess\n",
        "])"
      ]
    },
    {
      "cell_type": "code",
      "execution_count": null,
      "id": "b82d78c0-fe04-4811-957c-3bccd17726e6",
      "metadata": {
        "id": "b82d78c0-fe04-4811-957c-3bccd17726e6"
      },
      "outputs": [],
      "source": [
        "test_transforms = preprocess"
      ]
    },
    {
      "cell_type": "markdown",
      "id": "84e19ee1-780e-412f-ba69-9c33817d1ec9",
      "metadata": {
        "id": "84e19ee1-780e-412f-ba69-9c33817d1ec9"
      },
      "source": [
        "### 4. Loading Data"
      ]
    },
    {
      "cell_type": "code",
      "execution_count": null,
      "id": "d9292357-e338-4e26-91aa-921584971751",
      "metadata": {
        "id": "d9292357-e338-4e26-91aa-921584971751"
      },
      "outputs": [],
      "source": [
        "train_dataset = ImageFolder(TRAIN_DIR, transform = train_transforms)"
      ]
    },
    {
      "cell_type": "code",
      "execution_count": null,
      "id": "a9d02268-29ff-447d-abc9-a1276cb913fa",
      "metadata": {
        "id": "a9d02268-29ff-447d-abc9-a1276cb913fa"
      },
      "outputs": [],
      "source": [
        "test_dataset = ImageFolder(TEST_DIR, transform = test_transforms)"
      ]
    },
    {
      "cell_type": "code",
      "execution_count": null,
      "id": "85154274-5d5d-4403-b100-48bf68461c5c",
      "metadata": {
        "id": "85154274-5d5d-4403-b100-48bf68461c5c"
      },
      "outputs": [],
      "source": [
        "train_dataloader = DataLoader(train_dataset, batch_size = 16, shuffle = True)"
      ]
    },
    {
      "cell_type": "code",
      "execution_count": null,
      "id": "cc3d0f19-2153-410a-99d9-7f8b6c48323d",
      "metadata": {
        "id": "cc3d0f19-2153-410a-99d9-7f8b6c48323d"
      },
      "outputs": [],
      "source": [
        "test_dataloader = DataLoader(test_dataset, batch_size = 16, shuffle = False)"
      ]
    },
    {
      "cell_type": "code",
      "execution_count": null,
      "id": "f224815c-8612-4e7a-9c08-f7685f6ed5ef",
      "metadata": {
        "id": "f224815c-8612-4e7a-9c08-f7685f6ed5ef",
        "outputId": "190d9ce2-04e2-4b11-8cf4-a86d40e61cde"
      },
      "outputs": [
        {
          "name": "stdout",
          "output_type": "stream",
          "text": [
            "torch.Size([16, 3, 224, 224])\n",
            "tensor([1, 1, 0, 1, 1, 1, 1, 1, 0, 1, 1, 0, 1, 1, 1, 1])\n"
          ]
        }
      ],
      "source": [
        "for images, labels in train_dataloader:\n",
        "    print(images.shape)\n",
        "    print(labels)\n",
        "    break"
      ]
    },
    {
      "cell_type": "markdown",
      "id": "004cd70e-c69b-45d5-8f28-1560c730e13f",
      "metadata": {
        "id": "004cd70e-c69b-45d5-8f28-1560c730e13f"
      },
      "source": [
        "### 5. Modfying the Model"
      ]
    },
    {
      "cell_type": "markdown",
      "id": "929addcc-625a-405e-9b5f-da67ed64e185",
      "metadata": {
        "id": "929addcc-625a-405e-9b5f-da67ed64e185"
      },
      "source": [
        "We want to freeze the feature extractor part and replace the classifier part with trainable network."
      ]
    },
    {
      "cell_type": "code",
      "execution_count": null,
      "id": "bfcfe498-84a1-4211-a9ef-7ac87148ef27",
      "metadata": {
        "id": "bfcfe498-84a1-4211-a9ef-7ac87148ef27",
        "outputId": "bd201aa7-4d19-466e-ac17-bd8dd963d161"
      },
      "outputs": [
        {
          "name": "stdout",
          "output_type": "stream",
          "text": [
            "True\n",
            "True\n",
            "True\n",
            "True\n",
            "True\n",
            "True\n",
            "True\n",
            "True\n",
            "True\n",
            "True\n",
            "True\n",
            "True\n",
            "True\n",
            "True\n",
            "True\n",
            "True\n",
            "True\n",
            "True\n",
            "True\n",
            "True\n",
            "True\n",
            "True\n",
            "True\n",
            "True\n",
            "True\n",
            "True\n",
            "True\n",
            "True\n",
            "True\n",
            "True\n",
            "True\n",
            "True\n",
            "True\n",
            "True\n",
            "True\n",
            "True\n",
            "True\n",
            "True\n"
          ]
        }
      ],
      "source": [
        "for param in vgg_11_bn_model.parameters():\n",
        "    print(param.requires_grad)"
      ]
    },
    {
      "cell_type": "code",
      "execution_count": null,
      "id": "a432a780-b405-407f-8683-a3f4a9030d72",
      "metadata": {
        "id": "a432a780-b405-407f-8683-a3f4a9030d72"
      },
      "outputs": [],
      "source": [
        "freeze_model(vgg_11_bn_model)"
      ]
    },
    {
      "cell_type": "code",
      "execution_count": null,
      "id": "7ba8ba04-4250-41f4-8898-579fe3737f18",
      "metadata": {
        "id": "7ba8ba04-4250-41f4-8898-579fe3737f18",
        "outputId": "ca8e22cd-8f7f-4b00-cd61-99db758f93ce"
      },
      "outputs": [
        {
          "name": "stdout",
          "output_type": "stream",
          "text": [
            "False\n",
            "False\n",
            "False\n",
            "False\n",
            "False\n",
            "False\n",
            "False\n",
            "False\n",
            "False\n",
            "False\n",
            "False\n",
            "False\n",
            "False\n",
            "False\n",
            "False\n",
            "False\n",
            "False\n",
            "False\n",
            "False\n",
            "False\n",
            "False\n",
            "False\n",
            "False\n",
            "False\n",
            "False\n",
            "False\n",
            "False\n",
            "False\n",
            "False\n",
            "False\n",
            "False\n",
            "False\n",
            "False\n",
            "False\n",
            "False\n",
            "False\n",
            "False\n",
            "False\n"
          ]
        }
      ],
      "source": [
        "for param in vgg_11_bn_model.parameters():\n",
        "    print(param.requires_grad)"
      ]
    },
    {
      "cell_type": "code",
      "execution_count": null,
      "id": "d13b3172-9021-458a-8088-400351560a99",
      "metadata": {
        "id": "d13b3172-9021-458a-8088-400351560a99"
      },
      "outputs": [],
      "source": [
        "vgg_11_bn_model.classifier = nn.Sequential(\n",
        "    nn.Linear(in_features=25088, out_features=128),\n",
        "    nn.ReLU(),\n",
        "    nn.Dropout(p=0.5),\n",
        "    nn.Linear(in_features=128, out_features=128),\n",
        "    nn.ReLU(),\n",
        "    nn.Dropout(p=0.5),\n",
        "    nn.Linear(in_features=128, out_features=2)\n",
        ")"
      ]
    },
    {
      "cell_type": "code",
      "execution_count": null,
      "id": "d4688c5d-4b11-4f92-b0cb-7ad08b2057c7",
      "metadata": {
        "id": "d4688c5d-4b11-4f92-b0cb-7ad08b2057c7",
        "outputId": "27ba721c-8cd2-469a-d2a0-aaadb799d781"
      },
      "outputs": [
        {
          "name": "stdout",
          "output_type": "stream",
          "text": [
            "False\n",
            "False\n",
            "False\n",
            "False\n",
            "False\n",
            "False\n",
            "False\n",
            "False\n",
            "False\n",
            "False\n",
            "False\n",
            "False\n",
            "False\n",
            "False\n",
            "False\n",
            "False\n",
            "False\n",
            "False\n",
            "False\n",
            "False\n",
            "False\n",
            "False\n",
            "False\n",
            "False\n",
            "False\n",
            "False\n",
            "False\n",
            "False\n",
            "False\n",
            "False\n",
            "False\n",
            "False\n",
            "True\n",
            "True\n",
            "True\n",
            "True\n",
            "True\n",
            "True\n"
          ]
        }
      ],
      "source": [
        "for param in vgg_11_bn_model.parameters():\n",
        "    print(param.requires_grad)"
      ]
    },
    {
      "cell_type": "code",
      "execution_count": null,
      "id": "069a2210-2b34-435b-b7db-fada179333e9",
      "metadata": {
        "id": "069a2210-2b34-435b-b7db-fada179333e9"
      },
      "outputs": [],
      "source": [
        "def loss_batch(criterion, output, target, optimizer = None,scheduler = None):\n",
        "    with torch.set_grad_enabled(optimizer is not None):\n",
        "        loss = criterion(output, target)\n",
        "        predictions = output.argmax(dim = 1, keepdim = True)\n",
        "        correct = predictions.eq(target.view_as(predictions)).sum().item()\n",
        "        if optimizer is not None:\n",
        "            optimizer.zero_grad()\n",
        "            loss.backward()\n",
        "            optimizer.step()\n",
        "            scheduler.step()\n",
        "        return loss.item(), correct"
      ]
    },
    {
      "cell_type": "code",
      "execution_count": null,
      "id": "d9f55396-6e99-41d6-9ae5-db4298897a66",
      "metadata": {
        "id": "d9f55396-6e99-41d6-9ae5-db4298897a66"
      },
      "outputs": [],
      "source": [
        "def loss_epoch(model, dataloader, criterion, device, optimizer = None, scheduler = None):\n",
        "    running_loss = 0.0\n",
        "    running_acc = 0\n",
        "    for images, labels in tqdm(dataloader):\n",
        "        images = images.to(device)\n",
        "        labels = labels.to(device)\n",
        "        with torch.set_grad_enabled(optimizer is not None):\n",
        "            output = F.log_softmax(model(images), dim = 1)\n",
        "            batch_loss, batch_acc = loss_batch(criterion, output, labels, optimizer, scheduler)\n",
        "            running_loss += batch_loss\n",
        "            running_acc += batch_acc\n",
        "    epoch_loss = running_loss / len(dataloader.sampler)\n",
        "    epoch_acc = running_acc / len(dataloader.sampler)\n",
        "    return epoch_loss, epoch_acc"
      ]
    },
    {
      "cell_type": "code",
      "execution_count": null,
      "id": "bc71d5db-eade-4591-8936-f0660db500cd",
      "metadata": {
        "id": "bc71d5db-eade-4591-8936-f0660db500cd"
      },
      "outputs": [],
      "source": [
        "def train(model, epochs, train_loader, test_loader, criterion, optimizer, scheduler):\n",
        "    current_timestamp = f\"{datetime.datetime.now():%Y%m%d}\"\n",
        "    results_path = os.path.join(os.getcwd(), \"weights\", current_timestamp)\n",
        "    if not os.path.exists(results_path):\n",
        "        os.makedirs(results_path)\n",
        "    \n",
        "    device = torch.device(\"cuda\" if torch.cuda.is_available() else \"cpu\")\n",
        "    model = model.to(device)\n",
        "    train_loss = []\n",
        "    test_loss = []\n",
        "    train_acc = []\n",
        "    test_acc = []\n",
        "    best_acc = -1\n",
        "    best_weights = None\n",
        "    t = time.time()\n",
        "    for epoch in range(epochs):\n",
        "        print(\"Eoch {}/{}\".format(epoch, epochs-1))\n",
        "        model.train()\n",
        "        epoch_loss, epoch_acc = loss_epoch(model, train_loader, criterion, device, optimizer, scheduler)\n",
        "        train_loss.append(epoch_loss)\n",
        "        train_acc.append(epoch_acc)\n",
        "        print(\"Train:\\tLoss:{:.6f}\\tAccuracy:{:.6f}\".format(epoch_loss, epoch_acc))\n",
        "        model.eval()\n",
        "        epoch_loss, epoch_acc = loss_epoch(model, test_loader, criterion, device, None, None)\n",
        "        test_loss.append(epoch_loss)\n",
        "        test_acc.append(epoch_acc)\n",
        "        print(\"Test:\\tLoss:{:.6f}\\tAccuracy:{:.6f}\".format(epoch_loss, epoch_acc))\n",
        "        print(\"Current LR: {}\".format(optimizer.param_groups[0][\"lr\"]))\n",
        "        print('-' * 75)\n",
        "        if epoch_acc >= best_acc:\n",
        "            best_acc = epoch_acc\n",
        "            torch.save(vgg_11_bn_model.state_dict(), f\"{results_path}/best_model.pt\")\n",
        "    \n",
        "    model.load_state_dict(torch.load(f\"{results_path}/best_model.pt\"))\n",
        "    return {\n",
        "        \"best_model\": model,\n",
        "        \"train_loss\": train_loss,\n",
        "        \"train_acc\": train_acc,\n",
        "        \"test_loss\": test_loss,\n",
        "        \"test_acc\": test_acc\n",
        "    }"
      ]
    },
    {
      "cell_type": "code",
      "execution_count": null,
      "id": "1dd5887e-f064-4279-9b76-bb7d0228dab9",
      "metadata": {
        "id": "1dd5887e-f064-4279-9b76-bb7d0228dab9"
      },
      "outputs": [],
      "source": [
        "criterion = nn.NLLLoss(reduction=\"sum\")\n",
        "optimizer = optim.Adam(vgg_11_bn_model.parameters())\n",
        "device = torch.device(\"cuda\" if torch.cuda.is_available() else \"cpu\")\n",
        "vgg_11_bn_model = vgg_11_bn_model.to(device)"
      ]
    },
    {
      "cell_type": "code",
      "execution_count": null,
      "id": "2b25cb8b-9d93-4e7a-a892-984a5d06d213",
      "metadata": {
        "id": "2b25cb8b-9d93-4e7a-a892-984a5d06d213"
      },
      "outputs": [],
      "source": [
        "trainer = create_supervised_trainer(vgg_11_bn_model, optimizer, criterion, device=device)"
      ]
    },
    {
      "cell_type": "code",
      "execution_count": null,
      "id": "458148bc-dff2-4ce3-8ea3-bd94c117081f",
      "metadata": {
        "id": "458148bc-dff2-4ce3-8ea3-bd94c117081f",
        "outputId": "d1175abb-ded4-4f95-989b-969bbb49b00a"
      },
      "outputs": [
        {
          "name": "stderr",
          "output_type": "stream",
          "text": [
            "C:\\Users\\U\\anaconda3\\envs\\conda-torch\\lib\\site-packages\\ignite\\handlers\\lr_finder.py:197: UserWarning: Run completed without loss diverging, increase end_lr, decrease diverge_th or look at lr_finder.plot()\n",
            "  warnings.warn(\n"
          ]
        }
      ],
      "source": [
        "lr_finder = FastaiLRFinder()\n",
        "to_save = {\"model\": vgg_11_bn_model, \"optimizer\": optimizer}\n",
        "with lr_finder.attach(trainer, to_save, end_lr=1e-02) as trainer_with_lr_finder:\n",
        "    trainer_with_lr_finder.run(train_dataloader)"
      ]
    },
    {
      "cell_type": "code",
      "execution_count": null,
      "id": "041b1233-1ab0-4c63-8abe-af6b83e79745",
      "metadata": {
        "id": "041b1233-1ab0-4c63-8abe-af6b83e79745",
        "outputId": "8a841944-ec82-4d6a-efea-06fc34ead984"
      },
      "outputs": [
        {
          "data": {
            "image/png": "[encoded data removed]",
            "text/plain": [
              "<Figure size 640x480 with 1 Axes>"
            ]
          },
          "metadata": {},
          "output_type": "display_data"
        },
        {
          "data": {
            "text/plain": [
              "<AxesSubplot:xlabel='Learning rate', ylabel='Loss'>"
            ]
          },
          "execution_count": 149,
          "metadata": {},
          "output_type": "execute_result"
        }
      ],
      "source": [
        "lr_finder.plot()"
      ]
    },
    {
      "cell_type": "code",
      "execution_count": null,
      "id": "8fb96690-e87c-4f70-adea-0b19e679b641",
      "metadata": {
        "id": "8fb96690-e87c-4f70-adea-0b19e679b641"
      },
      "outputs": [],
      "source": [
        "max_lr = lr_finder.lr_suggestion()"
      ]
    },
    {
      "cell_type": "code",
      "execution_count": null,
      "id": "0d80817d-2ca0-461d-aa7e-455e94e88d5a",
      "metadata": {
        "id": "0d80817d-2ca0-461d-aa7e-455e94e88d5a"
      },
      "outputs": [],
      "source": [
        "optimizer = optim.Adam(vgg_11_bn_model.parameters(), lr = max_lr / 20)\n",
        "scheduler = optim.lr_scheduler.OneCycleLR(optimizer, max_lr, epochs=25, steps_per_epoch=len(train_dataloader))"
      ]
    },
    {
      "cell_type": "code",
      "execution_count": null,
      "id": "2c5fdf52-8454-4250-b0a7-44ab5f5941be",
      "metadata": {
        "id": "2c5fdf52-8454-4250-b0a7-44ab5f5941be",
        "outputId": "fd243fb2-6d1b-4414-db9c-d28d1635df31"
      },
      "outputs": [
        {
          "data": {
            "application/vnd.jupyter.widget-view+json": {
              "model_id": "d58c7cb01dfe42f8b8d0ce87887ea3d9",
              "version_major": 2,
              "version_minor": 0
            },
            "text/plain": [
              "  0%|          | 0/203 [00:00<?, ?it/s]"
            ]
          },
          "metadata": {},
          "output_type": "display_data"
        },
        {
          "name": "stdout",
          "output_type": "stream",
          "text": [
            "Train:\tLoss:0.187721\tAccuracy:0.935185\n"
          ]
        },
        {
          "data": {
            "application/vnd.jupyter.widget-view+json": {
              "model_id": "95eab74b0d5543a591ff3ec2fd5d2125",
              "version_major": 2,
              "version_minor": 0
            },
            "text/plain": [
              "  0%|          | 0/51 [00:00<?, ?it/s]"
            ]
          },
          "metadata": {},
          "output_type": "display_data"
        },
        {
          "name": "stdout",
          "output_type": "stream",
          "text": [
            "Test:\tLoss:0.152830\tAccuracy:0.945679\n",
            "Current LR: 0.00011992839281733557\n",
            "---------------------------------------------------------------------------\n"
          ]
        },
        {
          "data": {
            "application/vnd.jupyter.widget-view+json": {
              "model_id": "00dc1469eee747bc947f8f2ee3851c93",
              "version_major": 2,
              "version_minor": 0
            },
            "text/plain": [
              "  0%|          | 0/203 [00:00<?, ?it/s]"
            ]
          },
          "metadata": {},
          "output_type": "display_data"
        },
        {
          "name": "stdout",
          "output_type": "stream",
          "text": [
            "Train:\tLoss:0.202655\tAccuracy:0.924383\n"
          ]
        },
        {
          "data": {
            "application/vnd.jupyter.widget-view+json": {
              "model_id": "1ba691d3fbb34c81bcf8c2a1c357fce4",
              "version_major": 2,
              "version_minor": 0
            },
            "text/plain": [
              "  0%|          | 0/51 [00:00<?, ?it/s]"
            ]
          },
          "metadata": {},
          "output_type": "display_data"
        },
        {
          "name": "stdout",
          "output_type": "stream",
          "text": [
            "Test:\tLoss:0.150808\tAccuracy:0.937037\n",
            "Current LR: 0.00029266501088336745\n",
            "---------------------------------------------------------------------------\n"
          ]
        },
        {
          "data": {
            "application/vnd.jupyter.widget-view+json": {
              "model_id": "cba7066af0ea46999557bf8085cb7dba",
              "version_major": 2,
              "version_minor": 0
            },
            "text/plain": [
              "  0%|          | 0/203 [00:00<?, ?it/s]"
            ]
          },
          "metadata": {},
          "output_type": "display_data"
        },
        {
          "name": "stdout",
          "output_type": "stream",
          "text": [
            "Train:\tLoss:0.196272\tAccuracy:0.927469\n"
          ]
        },
        {
          "data": {
            "application/vnd.jupyter.widget-view+json": {
              "model_id": "4e50a7b1a1004080bb39dc2c78b5fe2f",
              "version_major": 2,
              "version_minor": 0
            },
            "text/plain": [
              "  0%|          | 0/51 [00:00<?, ?it/s]"
            ]
          },
          "metadata": {},
          "output_type": "display_data"
        },
        {
          "name": "stdout",
          "output_type": "stream",
          "text": [
            "Test:\tLoss:0.150799\tAccuracy:0.943210\n",
            "Current LR: 0.0005471264951040409\n",
            "---------------------------------------------------------------------------\n"
          ]
        },
        {
          "data": {
            "application/vnd.jupyter.widget-view+json": {
              "model_id": "630249244dd34898904d4ccaf0501d6d",
              "version_major": 2,
              "version_minor": 0
            },
            "text/plain": [
              "  0%|          | 0/203 [00:00<?, ?it/s]"
            ]
          },
          "metadata": {},
          "output_type": "display_data"
        },
        {
          "name": "stdout",
          "output_type": "stream",
          "text": [
            "Train:\tLoss:0.188118\tAccuracy:0.932407\n"
          ]
        },
        {
          "data": {
            "application/vnd.jupyter.widget-view+json": {
              "model_id": "db882d652af34f099b7439fc83524f3a",
              "version_major": 2,
              "version_minor": 0
            },
            "text/plain": [
              "  0%|          | 0/51 [00:00<?, ?it/s]"
            ]
          },
          "metadata": {},
          "output_type": "display_data"
        },
        {
          "name": "stdout",
          "output_type": "stream",
          "text": [
            "Test:\tLoss:0.187522\tAccuracy:0.930864\n",
            "Current LR: 0.000839257137714343\n",
            "---------------------------------------------------------------------------\n"
          ]
        },
        {
          "data": {
            "application/vnd.jupyter.widget-view+json": {
              "model_id": "ebc10f028b5449bea731e4eca153a110",
              "version_major": 2,
              "version_minor": 0
            },
            "text/plain": [
              "  0%|          | 0/203 [00:00<?, ?it/s]"
            ]
          },
          "metadata": {},
          "output_type": "display_data"
        },
        {
          "name": "stdout",
          "output_type": "stream",
          "text": [
            "Train:\tLoss:0.213816\tAccuracy:0.921605\n"
          ]
        },
        {
          "data": {
            "application/vnd.jupyter.widget-view+json": {
              "model_id": "2984e92ef4044f47a4677b3706138cad",
              "version_major": 2,
              "version_minor": 0
            },
            "text/plain": [
              "  0%|          | 0/51 [00:00<?, ?it/s]"
            ]
          },
          "metadata": {},
          "output_type": "display_data"
        },
        {
          "name": "stdout",
          "output_type": "stream",
          "text": [
            "Test:\tLoss:0.136332\tAccuracy:0.950617\n",
            "Current LR: 0.0011184794524614467\n",
            "---------------------------------------------------------------------------\n"
          ]
        },
        {
          "data": {
            "application/vnd.jupyter.widget-view+json": {
              "model_id": "8183a3751fc844c2b5d7ac3c35d1af08",
              "version_major": 2,
              "version_minor": 0
            },
            "text/plain": [
              "  0%|          | 0/203 [00:00<?, ?it/s]"
            ]
          },
          "metadata": {},
          "output_type": "display_data"
        },
        {
          "name": "stdout",
          "output_type": "stream",
          "text": [
            "Train:\tLoss:0.180821\tAccuracy:0.927160\n"
          ]
        },
        {
          "data": {
            "application/vnd.jupyter.widget-view+json": {
              "model_id": "35e4448890df43058903fce90e899415",
              "version_major": 2,
              "version_minor": 0
            },
            "text/plain": [
              "  0%|          | 0/51 [00:00<?, ?it/s]"
            ]
          },
          "metadata": {},
          "output_type": "display_data"
        },
        {
          "name": "stdout",
          "output_type": "stream",
          "text": [
            "Test:\tLoss:0.197889\tAccuracy:0.924691\n",
            "Current LR: 0.0013364508120214417\n",
            "---------------------------------------------------------------------------\n"
          ]
        },
        {
          "data": {
            "application/vnd.jupyter.widget-view+json": {
              "model_id": "0e601ae8bd55463cbbe9f17da94fa7a0",
              "version_major": 2,
              "version_minor": 0
            },
            "text/plain": [
              "  0%|          | 0/203 [00:00<?, ?it/s]"
            ]
          },
          "metadata": {},
          "output_type": "display_data"
        },
        {
          "name": "stdout",
          "output_type": "stream",
          "text": [
            "Train:\tLoss:0.190942\tAccuracy:0.929630\n"
          ]
        },
        {
          "data": {
            "application/vnd.jupyter.widget-view+json": {
              "model_id": "5c66273818e14e59bd7fee40c9953b9c",
              "version_major": 2,
              "version_minor": 0
            },
            "text/plain": [
              "  0%|          | 0/51 [00:00<?, ?it/s]"
            ]
          },
          "metadata": {},
          "output_type": "display_data"
        },
        {
          "name": "stdout",
          "output_type": "stream",
          "text": [
            "Test:\tLoss:0.148908\tAccuracy:0.951852\n",
            "Current LR: 0.0014554331573425705\n",
            "---------------------------------------------------------------------------\n"
          ]
        },
        {
          "data": {
            "application/vnd.jupyter.widget-view+json": {
              "model_id": "e178529d89a249d0ac516c45baeb5ce4",
              "version_major": 2,
              "version_minor": 0
            },
            "text/plain": [
              "  0%|          | 0/203 [00:00<?, ?it/s]"
            ]
          },
          "metadata": {},
          "output_type": "display_data"
        },
        {
          "name": "stdout",
          "output_type": "stream",
          "text": [
            "Train:\tLoss:0.174923\tAccuracy:0.931173\n"
          ]
        },
        {
          "data": {
            "application/vnd.jupyter.widget-view+json": {
              "model_id": "d9697884c99b462b96d783f4672d7895",
              "version_major": 2,
              "version_minor": 0
            },
            "text/plain": [
              "  0%|          | 0/51 [00:00<?, ?it/s]"
            ]
          },
          "metadata": {},
          "output_type": "display_data"
        },
        {
          "name": "stdout",
          "output_type": "stream",
          "text": [
            "Test:\tLoss:0.149776\tAccuracy:0.938272\n",
            "Current LR: 0.0014675580976647841\n",
            "---------------------------------------------------------------------------\n"
          ]
        },
        {
          "data": {
            "application/vnd.jupyter.widget-view+json": {
              "model_id": "11ef51afdfe1497cb1e9b19b86e8e4d3",
              "version_major": 2,
              "version_minor": 0
            },
            "text/plain": [
              "  0%|          | 0/203 [00:00<?, ?it/s]"
            ]
          },
          "metadata": {},
          "output_type": "display_data"
        },
        {
          "name": "stdout",
          "output_type": "stream",
          "text": [
            "Train:\tLoss:0.180895\tAccuracy:0.938580\n"
          ]
        },
        {
          "data": {
            "application/vnd.jupyter.widget-view+json": {
              "model_id": "edbdd700b6a141689c82c443fe5cff71",
              "version_major": 2,
              "version_minor": 0
            },
            "text/plain": [
              "  0%|          | 0/51 [00:00<?, ?it/s]"
            ]
          },
          "metadata": {},
          "output_type": "display_data"
        },
        {
          "name": "stdout",
          "output_type": "stream",
          "text": [
            "Test:\tLoss:0.127878\tAccuracy:0.959259\n",
            "Current LR: 0.0014439058666215596\n",
            "---------------------------------------------------------------------------\n"
          ]
        },
        {
          "data": {
            "application/vnd.jupyter.widget-view+json": {
              "model_id": "8acd17ad46c94b63a8116fc5da3433c5",
              "version_major": 2,
              "version_minor": 0
            },
            "text/plain": [
              "  0%|          | 0/203 [00:00<?, ?it/s]"
            ]
          },
          "metadata": {},
          "output_type": "display_data"
        },
        {
          "name": "stdout",
          "output_type": "stream",
          "text": [
            "Train:\tLoss:0.168868\tAccuracy:0.942284\n"
          ]
        },
        {
          "data": {
            "application/vnd.jupyter.widget-view+json": {
              "model_id": "07df6676a1ce4e76a1bd25f5d0b20bbc",
              "version_major": 2,
              "version_minor": 0
            },
            "text/plain": [
              "  0%|          | 0/51 [00:00<?, ?it/s]"
            ]
          },
          "metadata": {},
          "output_type": "display_data"
        },
        {
          "name": "stdout",
          "output_type": "stream",
          "text": [
            "Test:\tLoss:0.119508\tAccuracy:0.956790\n",
            "Current LR: 0.0013974781802934102\n",
            "---------------------------------------------------------------------------\n"
          ]
        },
        {
          "data": {
            "application/vnd.jupyter.widget-view+json": {
              "model_id": "1553156299204825a2ffd78b12951b77",
              "version_major": 2,
              "version_minor": 0
            },
            "text/plain": [
              "  0%|          | 0/203 [00:00<?, ?it/s]"
            ]
          },
          "metadata": {},
          "output_type": "display_data"
        },
        {
          "name": "stdout",
          "output_type": "stream",
          "text": [
            "Train:\tLoss:0.163032\tAccuracy:0.942284\n"
          ]
        },
        {
          "data": {
            "application/vnd.jupyter.widget-view+json": {
              "model_id": "98a7c6014b7c4a2a8e541d9df3054b80",
              "version_major": 2,
              "version_minor": 0
            },
            "text/plain": [
              "  0%|          | 0/51 [00:00<?, ?it/s]"
            ]
          },
          "metadata": {},
          "output_type": "display_data"
        },
        {
          "name": "stdout",
          "output_type": "stream",
          "text": [
            "Test:\tLoss:0.182468\tAccuracy:0.935802\n",
            "Current LR: 0.0013297672627197504\n",
            "---------------------------------------------------------------------------\n"
          ]
        },
        {
          "data": {
            "application/vnd.jupyter.widget-view+json": {
              "model_id": "160286f4af5b44f7bb7b16baaa013574",
              "version_major": 2,
              "version_minor": 0
            },
            "text/plain": [
              "  0%|          | 0/203 [00:00<?, ?it/s]"
            ]
          },
          "metadata": {},
          "output_type": "display_data"
        },
        {
          "name": "stdout",
          "output_type": "stream",
          "text": [
            "Train:\tLoss:0.145275\tAccuracy:0.949074\n"
          ]
        },
        {
          "data": {
            "application/vnd.jupyter.widget-view+json": {
              "model_id": "2e0c41bbaa8941e98116a52a51a39821",
              "version_major": 2,
              "version_minor": 0
            },
            "text/plain": [
              "  0%|          | 0/51 [00:00<?, ?it/s]"
            ]
          },
          "metadata": {},
          "output_type": "display_data"
        },
        {
          "name": "stdout",
          "output_type": "stream",
          "text": [
            "Test:\tLoss:0.121564\tAccuracy:0.955556\n",
            "Current LR: 0.001242949398504126\n",
            "---------------------------------------------------------------------------\n"
          ]
        },
        {
          "data": {
            "application/vnd.jupyter.widget-view+json": {
              "model_id": "ec13035c9b34408e87d4de60dbc1a3a4",
              "version_major": 2,
              "version_minor": 0
            },
            "text/plain": [
              "  0%|          | 0/203 [00:00<?, ?it/s]"
            ]
          },
          "metadata": {},
          "output_type": "display_data"
        },
        {
          "name": "stdout",
          "output_type": "stream",
          "text": [
            "Train:\tLoss:0.138083\tAccuracy:0.957407\n"
          ]
        },
        {
          "data": {
            "application/vnd.jupyter.widget-view+json": {
              "model_id": "c9d7abc3c1754ee09a1ae0966f8450df",
              "version_major": 2,
              "version_minor": 0
            },
            "text/plain": [
              "  0%|          | 0/51 [00:00<?, ?it/s]"
            ]
          },
          "metadata": {},
          "output_type": "display_data"
        },
        {
          "name": "stdout",
          "output_type": "stream",
          "text": [
            "Test:\tLoss:0.127410\tAccuracy:0.958025\n",
            "Current LR: 0.0011398149852364038\n",
            "---------------------------------------------------------------------------\n"
          ]
        },
        {
          "data": {
            "application/vnd.jupyter.widget-view+json": {
              "model_id": "c1a30b581a8246a0aeb0df25f171f125",
              "version_major": 2,
              "version_minor": 0
            },
            "text/plain": [
              "  0%|          | 0/203 [00:00<?, ?it/s]"
            ]
          },
          "metadata": {},
          "output_type": "display_data"
        },
        {
          "name": "stdout",
          "output_type": "stream",
          "text": [
            "Train:\tLoss:0.133368\tAccuracy:0.951235\n"
          ]
        },
        {
          "data": {
            "application/vnd.jupyter.widget-view+json": {
              "model_id": "189e82a2322f4f1cb4526dd300c7e900",
              "version_major": 2,
              "version_minor": 0
            },
            "text/plain": [
              "  0%|          | 0/51 [00:00<?, ?it/s]"
            ]
          },
          "metadata": {},
          "output_type": "display_data"
        },
        {
          "name": "stdout",
          "output_type": "stream",
          "text": [
            "Test:\tLoss:0.135200\tAccuracy:0.945679\n",
            "Current LR: 0.0010236788478182868\n",
            "---------------------------------------------------------------------------\n"
          ]
        },
        {
          "data": {
            "application/vnd.jupyter.widget-view+json": {
              "model_id": "0ce9cd34b5e44e62878a27d9ead05dbc",
              "version_major": 2,
              "version_minor": 0
            },
            "text/plain": [
              "  0%|          | 0/203 [00:00<?, ?it/s]"
            ]
          },
          "metadata": {},
          "output_type": "display_data"
        },
        {
          "name": "stdout",
          "output_type": "stream",
          "text": [
            "Train:\tLoss:0.123272\tAccuracy:0.954938\n"
          ]
        },
        {
          "data": {
            "application/vnd.jupyter.widget-view+json": {
              "model_id": "3cdf5076d81d4727b837d771505061c6",
              "version_major": 2,
              "version_minor": 0
            },
            "text/plain": [
              "  0%|          | 0/51 [00:00<?, ?it/s]"
            ]
          },
          "metadata": {},
          "output_type": "display_data"
        },
        {
          "name": "stdout",
          "output_type": "stream",
          "text": [
            "Test:\tLoss:0.112062\tAccuracy:0.960494\n",
            "Current LR: 0.0008982736972635246\n",
            "---------------------------------------------------------------------------\n"
          ]
        },
        {
          "data": {
            "application/vnd.jupyter.widget-view+json": {
              "model_id": "d3c9db3b069442a6b73463690b82cd5e",
              "version_major": 2,
              "version_minor": 0
            },
            "text/plain": [
              "  0%|          | 0/203 [00:00<?, ?it/s]"
            ]
          },
          "metadata": {},
          "output_type": "display_data"
        },
        {
          "name": "stdout",
          "output_type": "stream",
          "text": [
            "Train:\tLoss:0.114926\tAccuracy:0.958642\n"
          ]
        },
        {
          "data": {
            "application/vnd.jupyter.widget-view+json": {
              "model_id": "15d340f8ea224b1cbca473b09dbd818a",
              "version_major": 2,
              "version_minor": 0
            },
            "text/plain": [
              "  0%|          | 0/51 [00:00<?, ?it/s]"
            ]
          },
          "metadata": {},
          "output_type": "display_data"
        },
        {
          "name": "stdout",
          "output_type": "stream",
          "text": [
            "Test:\tLoss:0.115291\tAccuracy:0.955556\n",
            "Current LR: 0.0007676301582946492\n",
            "---------------------------------------------------------------------------\n"
          ]
        },
        {
          "data": {
            "application/vnd.jupyter.widget-view+json": {
              "model_id": "590978288d3647108615529a5706ab31",
              "version_major": 2,
              "version_minor": 0
            },
            "text/plain": [
              "  0%|          | 0/203 [00:00<?, ?it/s]"
            ]
          },
          "metadata": {},
          "output_type": "display_data"
        },
        {
          "name": "stdout",
          "output_type": "stream",
          "text": [
            "Train:\tLoss:0.109589\tAccuracy:0.959259\n"
          ]
        },
        {
          "data": {
            "application/vnd.jupyter.widget-view+json": {
              "model_id": "818e653372044af18840d4c0a4b40071",
              "version_major": 2,
              "version_minor": 0
            },
            "text/plain": [
              "  0%|          | 0/51 [00:00<?, ?it/s]"
            ]
          },
          "metadata": {},
          "output_type": "display_data"
        },
        {
          "name": "stdout",
          "output_type": "stream",
          "text": [
            "Test:\tLoss:0.124694\tAccuracy:0.956790\n",
            "Current LR: 0.0006359472217479823\n",
            "---------------------------------------------------------------------------\n"
          ]
        },
        {
          "data": {
            "application/vnd.jupyter.widget-view+json": {
              "model_id": "b729c930d3464a22b4d5e1480415def9",
              "version_major": 2,
              "version_minor": 0
            },
            "text/plain": [
              "  0%|          | 0/203 [00:00<?, ?it/s]"
            ]
          },
          "metadata": {},
          "output_type": "display_data"
        },
        {
          "name": "stdout",
          "output_type": "stream",
          "text": [
            "Train:\tLoss:0.098321\tAccuracy:0.961420\n"
          ]
        },
        {
          "data": {
            "application/vnd.jupyter.widget-view+json": {
              "model_id": "e7880e0dcda942caa55b89a65dc5c1a7",
              "version_major": 2,
              "version_minor": 0
            },
            "text/plain": [
              "  0%|          | 0/51 [00:00<?, ?it/s]"
            ]
          },
          "metadata": {},
          "output_type": "display_data"
        },
        {
          "name": "stdout",
          "output_type": "stream",
          "text": [
            "Test:\tLoss:0.127983\tAccuracy:0.958025\n",
            "Current LR: 0.0005074572855532148\n",
            "---------------------------------------------------------------------------\n"
          ]
        },
        {
          "data": {
            "application/vnd.jupyter.widget-view+json": {
              "model_id": "418a745b0101467e9848c9be91c59295",
              "version_major": 2,
              "version_minor": 0
            },
            "text/plain": [
              "  0%|          | 0/203 [00:00<?, ?it/s]"
            ]
          },
          "metadata": {},
          "output_type": "display_data"
        },
        {
          "name": "stdout",
          "output_type": "stream",
          "text": [
            "Train:\tLoss:0.102076\tAccuracy:0.965432\n"
          ]
        },
        {
          "data": {
            "application/vnd.jupyter.widget-view+json": {
              "model_id": "1c03b4032b664baa93c084b60faf3620",
              "version_major": 2,
              "version_minor": 0
            },
            "text/plain": [
              "  0%|          | 0/51 [00:00<?, ?it/s]"
            ]
          },
          "metadata": {},
          "output_type": "display_data"
        },
        {
          "name": "stdout",
          "output_type": "stream",
          "text": [
            "Test:\tLoss:0.126034\tAccuracy:0.958025\n",
            "Current LR: 0.0003862901219815179\n",
            "---------------------------------------------------------------------------\n"
          ]
        },
        {
          "data": {
            "application/vnd.jupyter.widget-view+json": {
              "model_id": "2f38929a6b104703bc99f4b85dde5534",
              "version_major": 2,
              "version_minor": 0
            },
            "text/plain": [
              "  0%|          | 0/203 [00:00<?, ?it/s]"
            ]
          },
          "metadata": {},
          "output_type": "display_data"
        },
        {
          "name": "stdout",
          "output_type": "stream",
          "text": [
            "Train:\tLoss:0.097644\tAccuracy:0.968827\n"
          ]
        },
        {
          "data": {
            "application/vnd.jupyter.widget-view+json": {
              "model_id": "21c800b6e9b94845abd0c4ff54025026",
              "version_major": 2,
              "version_minor": 0
            },
            "text/plain": [
              "  0%|          | 0/51 [00:00<?, ?it/s]"
            ]
          },
          "metadata": {},
          "output_type": "display_data"
        },
        {
          "name": "stdout",
          "output_type": "stream",
          "text": [
            "Test:\tLoss:0.125839\tAccuracy:0.954321\n",
            "Current LR: 0.00027634014336676066\n",
            "---------------------------------------------------------------------------\n"
          ]
        },
        {
          "data": {
            "application/vnd.jupyter.widget-view+json": {
              "model_id": "9fe8bbc31a074737848db48c4a597bea",
              "version_major": 2,
              "version_minor": 0
            },
            "text/plain": [
              "  0%|          | 0/203 [00:00<?, ?it/s]"
            ]
          },
          "metadata": {},
          "output_type": "display_data"
        },
        {
          "name": "stdout",
          "output_type": "stream",
          "text": [
            "Train:\tLoss:0.073763\tAccuracy:0.970679\n"
          ]
        },
        {
          "data": {
            "application/vnd.jupyter.widget-view+json": {
              "model_id": "99f5b454ebdc4b1baeed374d338c8970",
              "version_major": 2,
              "version_minor": 0
            },
            "text/plain": [
              "  0%|          | 0/51 [00:00<?, ?it/s]"
            ]
          },
          "metadata": {},
          "output_type": "display_data"
        },
        {
          "name": "stdout",
          "output_type": "stream",
          "text": [
            "Test:\tLoss:0.122247\tAccuracy:0.959259\n",
            "Current LR: 0.0001811412324887649\n",
            "---------------------------------------------------------------------------\n"
          ]
        },
        {
          "data": {
            "application/vnd.jupyter.widget-view+json": {
              "model_id": "998f1bf984aa45758e709413c92abc3c",
              "version_major": 2,
              "version_minor": 0
            },
            "text/plain": [
              "  0%|          | 0/203 [00:00<?, ?it/s]"
            ]
          },
          "metadata": {},
          "output_type": "display_data"
        },
        {
          "name": "stdout",
          "output_type": "stream",
          "text": [
            "Train:\tLoss:0.067073\tAccuracy:0.972222\n"
          ]
        },
        {
          "data": {
            "application/vnd.jupyter.widget-view+json": {
              "model_id": "caefb5a377994b60a88d2e527901799b",
              "version_major": 2,
              "version_minor": 0
            },
            "text/plain": [
              "  0%|          | 0/51 [00:00<?, ?it/s]"
            ]
          },
          "metadata": {},
          "output_type": "display_data"
        },
        {
          "name": "stdout",
          "output_type": "stream",
          "text": [
            "Test:\tLoss:0.126544\tAccuracy:0.960494\n",
            "Current LR: 0.00010375316067307434\n",
            "---------------------------------------------------------------------------\n"
          ]
        },
        {
          "data": {
            "application/vnd.jupyter.widget-view+json": {
              "model_id": "12b4872e804b425cb1de555e07e5d931",
              "version_major": 2,
              "version_minor": 0
            },
            "text/plain": [
              "  0%|          | 0/203 [00:00<?, ?it/s]"
            ]
          },
          "metadata": {},
          "output_type": "display_data"
        },
        {
          "name": "stdout",
          "output_type": "stream",
          "text": [
            "Train:\tLoss:0.073931\tAccuracy:0.974383\n"
          ]
        },
        {
          "data": {
            "application/vnd.jupyter.widget-view+json": {
              "model_id": "2b9100b4d9f74d39be88d9ef91606447",
              "version_major": 2,
              "version_minor": 0
            },
            "text/plain": [
              "  0%|          | 0/51 [00:00<?, ?it/s]"
            ]
          },
          "metadata": {},
          "output_type": "display_data"
        },
        {
          "name": "stdout",
          "output_type": "stream",
          "text": [
            "Test:\tLoss:0.124161\tAccuracy:0.961728\n",
            "Current LR: 4.666324422296256e-05\n",
            "---------------------------------------------------------------------------\n"
          ]
        },
        {
          "data": {
            "application/vnd.jupyter.widget-view+json": {
              "model_id": "fd4ad80dc2aa4b25b1f8114688731a13",
              "version_major": 2,
              "version_minor": 0
            },
            "text/plain": [
              "  0%|          | 0/203 [00:00<?, ?it/s]"
            ]
          },
          "metadata": {},
          "output_type": "display_data"
        },
        {
          "name": "stdout",
          "output_type": "stream",
          "text": [
            "Train:\tLoss:0.078237\tAccuracy:0.971914\n"
          ]
        },
        {
          "data": {
            "application/vnd.jupyter.widget-view+json": {
              "model_id": "573e85f181cd414eb76274c831b8838b",
              "version_major": 2,
              "version_minor": 0
            },
            "text/plain": [
              "  0%|          | 0/51 [00:00<?, ?it/s]"
            ]
          },
          "metadata": {},
          "output_type": "display_data"
        },
        {
          "name": "stdout",
          "output_type": "stream",
          "text": [
            "Test:\tLoss:0.129245\tAccuracy:0.959259\n",
            "Current LR: 1.1706400026875903e-05\n",
            "---------------------------------------------------------------------------\n"
          ]
        },
        {
          "data": {
            "application/vnd.jupyter.widget-view+json": {
              "model_id": "efdfe83949fc432888bb026af63d0417",
              "version_major": 2,
              "version_minor": 0
            },
            "text/plain": [
              "  0%|          | 0/203 [00:00<?, ?it/s]"
            ]
          },
          "metadata": {},
          "output_type": "display_data"
        },
        {
          "name": "stdout",
          "output_type": "stream",
          "text": [
            "Train:\tLoss:0.075008\tAccuracy:0.973148\n"
          ]
        },
        {
          "data": {
            "application/vnd.jupyter.widget-view+json": {
              "model_id": "273988a481b24e02b98d86dccd55f17d",
              "version_major": 2,
              "version_minor": 0
            },
            "text/plain": [
              "  0%|          | 0/51 [00:00<?, ?it/s]"
            ]
          },
          "metadata": {},
          "output_type": "display_data"
        },
        {
          "name": "stdout",
          "output_type": "stream",
          "text": [
            "Test:\tLoss:0.125802\tAccuracy:0.960494\n",
            "Current LR: 6.16981986408871e-09\n",
            "---------------------------------------------------------------------------\n"
          ]
        },
        {
          "ename": "AttributeError",
          "evalue": "'VGG' object has no attribute 'load_stat_dict'",
          "output_type": "error",
          "traceback": [
            "\u001b[1;31m---------------------------------------------------------------------------\u001b[0m",
            "\u001b[1;31mAttributeError\u001b[0m                            Traceback (most recent call last)",
            "Input \u001b[1;32mIn [163]\u001b[0m, in \u001b[0;36m<cell line: 1>\u001b[1;34m()\u001b[0m\n\u001b[1;32m----> 1\u001b[0m result \u001b[38;5;241m=\u001b[39m \u001b[43mtrain\u001b[49m\u001b[43m(\u001b[49m\u001b[43mvgg_11_bn_model\u001b[49m\u001b[43m,\u001b[49m\u001b[43m \u001b[49m\u001b[38;5;241;43m25\u001b[39;49m\u001b[43m,\u001b[49m\u001b[43m \u001b[49m\u001b[43mtrain_dataloader\u001b[49m\u001b[43m,\u001b[49m\u001b[43m \u001b[49m\u001b[43mtest_loader\u001b[49m\u001b[43m,\u001b[49m\u001b[43m \u001b[49m\u001b[43mcriterion\u001b[49m\u001b[43m,\u001b[49m\u001b[43m \u001b[49m\u001b[43moptimizer\u001b[49m\u001b[43m,\u001b[49m\u001b[43m \u001b[49m\u001b[43mscheduler\u001b[49m\u001b[43m)\u001b[49m\n",
            "Input \u001b[1;32mIn [152]\u001b[0m, in \u001b[0;36mtrain\u001b[1;34m(model, epochs, train_loader, test_loader, criterion, optimizer, scheduler)\u001b[0m\n\u001b[0;32m     30\u001b[0m         best_acc \u001b[38;5;241m=\u001b[39m epoch_acc\n\u001b[0;32m     31\u001b[0m         torch\u001b[38;5;241m.\u001b[39msave(vgg_11_bn_model\u001b[38;5;241m.\u001b[39mstate_dict(), \u001b[38;5;124mf\u001b[39m\u001b[38;5;124m\"\u001b[39m\u001b[38;5;132;01m{\u001b[39;00mresults_path\u001b[38;5;132;01m}\u001b[39;00m\u001b[38;5;124m/best_model.pt\u001b[39m\u001b[38;5;124m\"\u001b[39m)\n\u001b[1;32m---> 33\u001b[0m \u001b[43mmodel\u001b[49m\u001b[38;5;241;43m.\u001b[39;49m\u001b[43mload_stat_dict\u001b[49m(torch\u001b[38;5;241m.\u001b[39mload(\u001b[38;5;124mf\u001b[39m\u001b[38;5;124m\"\u001b[39m\u001b[38;5;132;01m{\u001b[39;00mresults_path\u001b[38;5;132;01m}\u001b[39;00m\u001b[38;5;124m/best_model.pt\u001b[39m\u001b[38;5;124m\"\u001b[39m))\n\u001b[0;32m     34\u001b[0m \u001b[38;5;28;01mreturn\u001b[39;00m {\n\u001b[0;32m     35\u001b[0m     \u001b[38;5;124m\"\u001b[39m\u001b[38;5;124mbest_model\u001b[39m\u001b[38;5;124m\"\u001b[39m: model,\n\u001b[0;32m     36\u001b[0m     \u001b[38;5;124m\"\u001b[39m\u001b[38;5;124mtrain_loss\u001b[39m\u001b[38;5;124m\"\u001b[39m: train_loss,\n\u001b[1;32m   (...)\u001b[0m\n\u001b[0;32m     39\u001b[0m     \u001b[38;5;124m\"\u001b[39m\u001b[38;5;124mtest_acc\u001b[39m\u001b[38;5;124m\"\u001b[39m: test_acc\n\u001b[0;32m     40\u001b[0m }\n",
            "File \u001b[1;32m~\\anaconda3\\envs\\conda-torch\\lib\\site-packages\\torch\\nn\\modules\\module.py:1207\u001b[0m, in \u001b[0;36mModule.__getattr__\u001b[1;34m(self, name)\u001b[0m\n\u001b[0;32m   1205\u001b[0m     \u001b[38;5;28;01mif\u001b[39;00m name \u001b[38;5;129;01min\u001b[39;00m modules:\n\u001b[0;32m   1206\u001b[0m         \u001b[38;5;28;01mreturn\u001b[39;00m modules[name]\n\u001b[1;32m-> 1207\u001b[0m \u001b[38;5;28;01mraise\u001b[39;00m \u001b[38;5;167;01mAttributeError\u001b[39;00m(\u001b[38;5;124m\"\u001b[39m\u001b[38;5;124m'\u001b[39m\u001b[38;5;132;01m{}\u001b[39;00m\u001b[38;5;124m'\u001b[39m\u001b[38;5;124m object has no attribute \u001b[39m\u001b[38;5;124m'\u001b[39m\u001b[38;5;132;01m{}\u001b[39;00m\u001b[38;5;124m'\u001b[39m\u001b[38;5;124m\"\u001b[39m\u001b[38;5;241m.\u001b[39mformat(\n\u001b[0;32m   1208\u001b[0m     \u001b[38;5;28mtype\u001b[39m(\u001b[38;5;28mself\u001b[39m)\u001b[38;5;241m.\u001b[39m\u001b[38;5;18m__name__\u001b[39m, name))\n",
            "\u001b[1;31mAttributeError\u001b[0m: 'VGG' object has no attribute 'load_stat_dict'"
          ]
        }
      ],
      "source": [
        "result = train(vgg_11_bn_model, 25, train_dataloader, test_loader, criterion, optimizer, scheduler)"
      ]
    },
    {
      "cell_type": "code",
      "execution_count": null,
      "id": "e364001c-73f0-493b-bceb-20a0336267eb",
      "metadata": {
        "id": "e364001c-73f0-493b-bceb-20a0336267eb",
        "outputId": "bdbefa7e-4ff0-4416-dfc9-6f3b9d46b659"
      },
      "outputs": [
        {
          "data": {
            "text/plain": [
              "<All keys matched successfully>"
            ]
          },
          "execution_count": 165,
          "metadata": {},
          "output_type": "execute_result"
        }
      ],
      "source": [
        "vgg_11_bn_model.load_state_dict(torch.load(\"weights/20221116/best_model.pt\"))"
      ]
    },
    {
      "cell_type": "code",
      "execution_count": null,
      "id": "81621af9-c1e9-4668-ad95-e49eb7abc392",
      "metadata": {
        "id": "81621af9-c1e9-4668-ad95-e49eb7abc392",
        "outputId": "3c027c09-c1f8-476c-fb1f-3ec9faa217e6"
      },
      "outputs": [
        {
          "data": {
            "text/plain": [
              "{'Cracks': 0, 'Groove': 1}"
            ]
          },
          "execution_count": 202,
          "metadata": {},
          "output_type": "execute_result"
        }
      ],
      "source": [
        "train_dataset.class_to_idx"
      ]
    },
    {
      "cell_type": "code",
      "execution_count": null,
      "id": "1468175b-b490-49fd-8cd7-fa1e1caef7ba",
      "metadata": {
        "id": "1468175b-b490-49fd-8cd7-fa1e1caef7ba"
      },
      "outputs": [],
      "source": [
        "class TestDataset(Dataset):\n",
        "    def __init__(self, folder_path, transforms):\n",
        "        self.images_names = [image_name for image_name in os.listdir(folder_path)]\n",
        "        self.folder_path = folder_path\n",
        "        self.transforms = transforms\n",
        "    def __len__(self):\n",
        "        return len(self.images_names)\n",
        "    def __getitem__(self, idx):\n",
        "        image_name = self.images_names[idx]\n",
        "        image = self.transforms(Image.open(os.path.join(self.folder_path, image_name)))\n",
        "        label = 0\n",
        "        if \"Crack\" in image_name:\n",
        "            label = 0\n",
        "        elif \"Groove\" in image_name:\n",
        "            label = 1\n",
        "        return image, torch.tensor(label)"
      ]
    },
    {
      "cell_type": "code",
      "execution_count": null,
      "id": "0434a7af-b83a-4234-aa8a-4632fd65dd1f",
      "metadata": {
        "id": "0434a7af-b83a-4234-aa8a-4632fd65dd1f"
      },
      "outputs": [],
      "source": [
        "evaluation_dataset = TestDataset(os.path.join(os.getcwd(), \"data\", \"test\"), preprocess)"
      ]
    },
    {
      "cell_type": "code",
      "execution_count": null,
      "id": "506231a2-0677-4711-9b43-10246f575d40",
      "metadata": {
        "id": "506231a2-0677-4711-9b43-10246f575d40",
        "outputId": "c68f4dc6-923f-4c69-f845-fe9184382ba8"
      },
      "outputs": [
        {
          "data": {
            "text/plain": [
              "(tensor([[[-0.1314, -0.1828, -0.1657,  ..., -0.5424, -0.5767, -0.6281],\n",
              "          [-0.0801, -0.1999, -0.1314,  ..., -0.5253, -0.5596, -0.5767],\n",
              "          [-0.1486, -0.3027, -0.3883,  ..., -0.4226, -0.4911, -0.5253],\n",
              "          ...,\n",
              "          [-0.4739, -0.4054, -0.3883,  ..., -0.5596, -0.5424, -0.4568],\n",
              "          [-0.5082, -0.4054, -0.4226,  ..., -0.4911, -0.4911, -0.4739],\n",
              "          [-0.4226, -0.4226, -0.4911,  ..., -0.4911, -0.4739, -0.4739]],\n",
              " \n",
              "         [[-0.1099, -0.1450, -0.1099,  ..., -0.4251, -0.4601, -0.5126],\n",
              "          [-0.0224, -0.0924, -0.0049,  ..., -0.4076, -0.4426, -0.4601],\n",
              "          [-0.0049, -0.1275, -0.1975,  ..., -0.3025, -0.3725, -0.4076],\n",
              "          ...,\n",
              "          [-0.2675, -0.1975, -0.1800,  ..., -0.3725, -0.3550, -0.2675],\n",
              "          [-0.3025, -0.1975, -0.2150,  ..., -0.3025, -0.3025, -0.2850],\n",
              "          [-0.2150, -0.2150, -0.2850,  ..., -0.3025, -0.2850, -0.2850]],\n",
              " \n",
              "         [[-0.0964, -0.1312, -0.0964,  ..., -0.2010, -0.2358, -0.3055],\n",
              "          [-0.0092, -0.0964, -0.0267,  ..., -0.1835, -0.2184, -0.2532],\n",
              "          [-0.0267, -0.1487, -0.2358,  ..., -0.0790, -0.1487, -0.2010],\n",
              "          ...,\n",
              "          [-0.1138, -0.0441, -0.0267,  ..., -0.1487, -0.1487, -0.0615],\n",
              "          [-0.1487, -0.0441, -0.0615,  ..., -0.0964, -0.0964, -0.0790],\n",
              "          [-0.0615, -0.0615, -0.1312,  ..., -0.0964, -0.0790, -0.0790]]]),\n",
              " tensor(1))"
            ]
          },
          "execution_count": 223,
          "metadata": {},
          "output_type": "execute_result"
        }
      ],
      "source": [
        "evaluation_dataset[400]"
      ]
    },
    {
      "cell_type": "code",
      "execution_count": null,
      "id": "3b26c7cd-28c9-49c8-900a-87922030a83d",
      "metadata": {
        "id": "3b26c7cd-28c9-49c8-900a-87922030a83d"
      },
      "outputs": [],
      "source": [
        "def evaluate(model, test_dataloader):\n",
        "    true_values_list = []\n",
        "    pred_probs_list = []\n",
        "    pred_labels_list = []\n",
        "    for images, labels in test_dataloader:\n",
        "        for label in labels.data:\n",
        "            true_values_list.append(label.item())\n",
        "        images = images.to(device)\n",
        "        labels = labels.to(device)\n",
        "        with torch.no_grad():\n",
        "            outputs = model(images)\n",
        "            for prediction in F.softmax(outputs, dim=1).data.cpu():\n",
        "                pred_probs_list.append(prediction.numpy().tolist())\n",
        "            pred_labels = outputs.argmax(dim = 1, keepdim = True)\n",
        "            for pred_label in pred_labels.data.cpu():\n",
        "                pred_labels_list.append(pred_label.item())\n",
        "    return true_values_list, np.array(pred_probs_list), pred_labels_list"
      ]
    },
    {
      "cell_type": "code",
      "execution_count": null,
      "id": "f2921d38-0f0e-42e0-b3c7-ae420a757096",
      "metadata": {
        "id": "f2921d38-0f0e-42e0-b3c7-ae420a757096"
      },
      "outputs": [],
      "source": [
        "evaluation_dataloader = DataLoader(evaluation_dataset, batch_size = 16, shuffle = False)"
      ]
    },
    {
      "cell_type": "code",
      "execution_count": null,
      "id": "8e8c2363-cea6-41e0-9a60-834f5060ca54",
      "metadata": {
        "id": "8e8c2363-cea6-41e0-9a60-834f5060ca54"
      },
      "outputs": [],
      "source": [
        "true_values_list, pred_probs_list, pred_labels_list = evaluate(vgg_11_bn_model, evaluation_dataloader)"
      ]
    },
    {
      "cell_type": "code",
      "execution_count": null,
      "id": "e6d1f8d9-a691-47b3-9a2a-20dbdbcda79d",
      "metadata": {
        "id": "e6d1f8d9-a691-47b3-9a2a-20dbdbcda79d"
      },
      "outputs": [],
      "source": [
        "from sklearn.metrics import accuracy_score, confusion_matrix, precision_score, recall_score, confusion_matrix, f1_score, roc_auc_score"
      ]
    },
    {
      "cell_type": "code",
      "execution_count": null,
      "id": "c647cd2b-15e5-4cbe-90ee-8d57ae871207",
      "metadata": {
        "id": "c647cd2b-15e5-4cbe-90ee-8d57ae871207",
        "outputId": "fc85dcf5-b7df-436b-9d2a-505491dc9cb0"
      },
      "outputs": [
        {
          "data": {
            "text/plain": [
              "0.96"
            ]
          },
          "execution_count": 228,
          "metadata": {},
          "output_type": "execute_result"
        }
      ],
      "source": [
        "accuracy_score(true_values_list, pred_labels_list)"
      ]
    },
    {
      "cell_type": "code",
      "execution_count": null,
      "id": "7d2bbc93-2a1a-4803-9ee3-7a843424b0fd",
      "metadata": {
        "id": "7d2bbc93-2a1a-4803-9ee3-7a843424b0fd",
        "outputId": "c7bbd1f8-1042-4c74-96b0-a5ed953b20f7"
      },
      "outputs": [
        {
          "name": "stdout",
          "output_type": "stream",
          "text": [
            "True Negatives: 218\n",
            "False Positives: 7\n",
            "False Negatives: 11\n",
            "True Positives: 214\n"
          ]
        }
      ],
      "source": [
        "tn, fp, fn, tp = confusion_matrix(true_values_list, pred_labels_list).ravel()\n",
        "print(f\"True Negatives: {tn}\\nFalse Positives: {fp}\\nFalse Negatives: {fn}\\nTrue Positives: {tp}\")"
      ]
    },
    {
      "cell_type": "code",
      "execution_count": null,
      "id": "5fc05e4f-2f47-41c8-862b-649f961bcbe9",
      "metadata": {
        "id": "5fc05e4f-2f47-41c8-862b-649f961bcbe9",
        "outputId": "3095a28d-d1d3-419e-bff4-afc08e618862"
      },
      "outputs": [
        {
          "data": {
            "text/plain": [
              "0.9683257918552036"
            ]
          },
          "execution_count": 244,
          "metadata": {},
          "output_type": "execute_result"
        }
      ],
      "source": [
        "precision_score(true_values_list, pred_labels_list)"
      ]
    },
    {
      "cell_type": "code",
      "execution_count": null,
      "id": "564efedb-354d-4b2e-8928-49dd4450fab0",
      "metadata": {
        "id": "564efedb-354d-4b2e-8928-49dd4450fab0",
        "outputId": "f1a91097-209e-48a2-9361-b36bece7d26f"
      },
      "outputs": [
        {
          "data": {
            "text/plain": [
              "0.9511111111111111"
            ]
          },
          "execution_count": 243,
          "metadata": {},
          "output_type": "execute_result"
        }
      ],
      "source": [
        "recall_score(true_values_list, pred_labels_list)"
      ]
    },
    {
      "cell_type": "code",
      "execution_count": null,
      "id": "11c410e3-00e3-4430-a95a-327e72f960c7",
      "metadata": {
        "id": "11c410e3-00e3-4430-a95a-327e72f960c7",
        "outputId": "abb46f00-8380-4bb1-9e8f-cb7f74fdb07d"
      },
      "outputs": [
        {
          "data": {
            "text/plain": [
              "0.9596412556053812"
            ]
          },
          "execution_count": 242,
          "metadata": {},
          "output_type": "execute_result"
        }
      ],
      "source": [
        "f1_score(true_values_list, pred_labels_list)"
      ]
    },
    {
      "cell_type": "code",
      "execution_count": null,
      "id": "cf3ec461-ad2c-40bf-b92d-62d78807ed8b",
      "metadata": {
        "id": "cf3ec461-ad2c-40bf-b92d-62d78807ed8b",
        "outputId": "1525659a-602b-4b0c-9ab4-45d4a97fc3c5"
      },
      "outputs": [
        {
          "data": {
            "text/plain": [
              "0.9943506172839506"
            ]
          },
          "execution_count": 250,
          "metadata": {},
          "output_type": "execute_result"
        }
      ],
      "source": [
        "roc_auc_score(true_values_list, pred_probs_list[:, 1])"
      ]
    },
    {
      "cell_type": "code",
      "execution_count": null,
      "id": "ab091711-7aad-4637-bd99-5bf752853d80",
      "metadata": {
        "id": "ab091711-7aad-4637-bd99-5bf752853d80"
      },
      "outputs": [],
      "source": []
    }
  ],
  "metadata": {
    "kernelspec": {
      "display_name": "conda-torch",
      "language": "python",
      "name": "conda-torch"
    },
    "language_info": {
      "codemirror_mode": {
        "name": "ipython",
        "version": 3
      },
      "file_extension": ".py",
      "mimetype": "text/x-python",
      "name": "python",
      "nbconvert_exporter": "python",
      "pygments_lexer": "ipython3",
      "version": "3.8.13"
    },
    "colab": {
      "provenance": []
    }
  },
  "nbformat": 4,
  "nbformat_minor": 5
}